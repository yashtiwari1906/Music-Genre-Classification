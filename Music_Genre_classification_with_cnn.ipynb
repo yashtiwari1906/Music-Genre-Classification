{
  "nbformat": 4,
  "nbformat_minor": 0,
  "metadata": {
    "colab": {
      "name": "Untitled0_(1).ipynb",
      "provenance": []
    },
    "kernelspec": {
      "name": "python3",
      "display_name": "Python 3"
    },
    "accelerator": "GPU"
  },
  "cells": [
    {
      "cell_type": "code",
      "metadata": {
        "id": "a9inh9WmFI_r",
        "colab_type": "code",
        "colab": {
          "base_uri": "https://localhost:8080/",
          "height": 34
        },
        "outputId": "31bd034b-14b7-4c0b-aed5-db3b2bca5378"
      },
      "source": [
        "#mounting google drive to get the data\n",
        "from google.colab import drive\n",
        "drive.mount('/content/drive')"
      ],
      "execution_count": 1,
      "outputs": [
        {
          "output_type": "stream",
          "text": [
            "Mounted at /content/drive\n"
          ],
          "name": "stdout"
        }
      ]
    },
    {
      "cell_type": "code",
      "metadata": {
        "id": "T22qyJHSPv1b",
        "colab_type": "code",
        "colab": {}
      },
      "source": [
        "#Importing all the necessary packages\n",
        "\n",
        "import numpy as np\n",
        "import tensorflow as tf\n",
        "import keras\n",
        "import librosa as lb        \n",
        "import cv2 \n",
        "import os\n",
        "from keras import backend as K\n",
        "import numpy as np\n",
        "import matplotlib.pyplot as plt\n",
        "import pandas as pd\n",
        "from numpy import save\n",
        "import matplotlib\n",
        "%matplotlib inline\n",
        "import seaborn as sns\n",
        "matplotlib.rcParams['figure.figsize'] = (20, 20)\n",
        "\n",
        "from sklearn.metrics import confusion_matrix\n",
        "from keras.models import Sequential, load_model\n",
        "from keras.layers import Dense, Dropout, Flatten\n",
        "from keras.layers import Conv2D, MaxPooling2D\n",
        "from keras.layers import BatchNormalization\n",
        "from keras.utils import np_utils\n",
        "from keras import regularizers\n",
        "from keras.engine.topology import Layer\n",
        "from sklearn.metrics import precision_recall_fscore_support, confusion_matrix\n",
        "from keras.callbacks import ReduceLROnPlateau\n",
        "matplotlib.use(\"Agg\")\n",
        "import itertools\n"
      ],
      "execution_count": 20,
      "outputs": []
    },
    {
      "cell_type": "code",
      "metadata": {
        "id": "JZVi187r3qAu",
        "colab_type": "code",
        "colab": {}
      },
      "source": [
        "#functon for converting all labels in to one hot vectors\n",
        "def one_hot_encode(filename):\n",
        "  label_dict = {\"classical\":[1,0,0,0,0,0],\n",
        "                \"hiphop\":[0,1,0,0,0,0],\"jazz\":[0,0,1,0,0,0],\n",
        "                \"metal\":[0,0,0,1,0,0],\"pop\":[0,0,0,0,1,0],\"reggae\":[0,0,0,0,0,1]}\n",
        "  return label_dict[filename] "
      ],
      "execution_count": 3,
      "outputs": []
    },
    {
      "cell_type": "code",
      "metadata": {
        "id": "y89DKpEVax3q",
        "colab_type": "code",
        "colab": {}
      },
      "source": [
        "SR = 22050\n",
        "N_FFT = 512\n",
        "HOP_LENGTH = N_FFT // 2\n",
        "N_MELS = 64  \n",
        "\n",
        "#taking audio input and generating mel-spectograms out of it\n",
        "\n",
        "def mel_spectogram(file):\n",
        "  y, sr = lb.load(file)\n",
        "  melspec = lb.feature.melspectrogram(y = y,sr = sr, hop_length = HOP_LENGTH, n_fft = N_FFT, n_mels = N_MELS)\n",
        "  melspec_db = lb.power_to_db(melspec,ref = np.max)\n",
        "  return melspec_db\n",
        "\n",
        "def list_mel_spectogram(data_file_location,dirname1):\n",
        "  mel_spect_list = []\n",
        "  label = []\n",
        "  for dirname, _, filenames in os.walk(data_file_location):\n",
        "\n",
        "    if dirname == dirname1:\n",
        "      \n",
        "      for filename in filenames:\n",
        "        \n",
        "        label.append(np.array(one_hot_encode(filename.split('.')[0])))\n",
        "        x = np.array(mel_spectogram(os.path.join(dirname, filename)))\n",
        "        x = cv2.resize(x.reshape(x.shape[0],x.shape[1],1), (2584,64),interpolation = cv2.INTER_CUBIC)\n",
        "        x = x / np.linalg.norm(x)\n",
        "        mel_spect_list.append((x.reshape(x.shape[0],x.shape[1],1)))\n",
        "\n",
        "  return mel_spect_list,label \n",
        "\n",
        "def prepare_data():\n",
        "\n",
        "  data_file_location = '/content/drive/My Drive/projects_google_collab/music genre classification/LSTM/gtzan/_train/_train'\n",
        "  training_dirname = '/content/drive/My Drive/projects_google_collab/music genre classification/LSTM/gtzan/_train/_train'\n",
        "  validation_dirname = '/content/drive/My Drive/projects_google_collab/music genre classification/LSTM/gtzan/_validation/_validation'\n",
        "  test_dirname = '/content/drive/My Drive/projects_google_collab/music genre classification/LSTM/gtzan/_test'\n",
        "\n",
        "  train_mel_im, train_label = list_mel_spectogram(data_file_location, training_dirname)\n",
        "  valid_mel_im, valid_label = list_mel_spectogram(validation_dirname, validation_dirname)\n",
        "  test_mel_im, test_label = list_mel_spectogram(test_dirname, test_dirname)\n",
        "  \n",
        "\n",
        "  return train_mel_im, train_label, valid_mel_im, valid_label, test_mel_im, test_label\n"
      ],
      "execution_count": 4,
      "outputs": []
    },
    {
      "cell_type": "code",
      "metadata": {
        "id": "uT_FVrsJlqgn",
        "colab_type": "code",
        "colab": {
          "base_uri": "https://localhost:8080/",
          "height": 119
        },
        "outputId": "36aa8982-d640-432c-dca7-45add162afb7"
      },
      "source": [
        "\n",
        "#making our dataset ready\n",
        "train_mel_im, train_label, valid_mel_im, valid_label, test_mel_im, test_label = prepare_data()\n",
        "\n",
        "#saving datasets into drive\n",
        "save('/content/drive/My Drive/projects_google_collab/music genre classification/train_mel_im.npy',train_mel_im)\n",
        "save('/content/drive/My Drive/projects_google_collab/music genre classification/train_label.npy',train_label)\n",
        "save('/content/drive/My Drive/projects_google_collab/music genre classification/valid_mel_im.npy',valid_mel_im)\n",
        "save('/content/drive/My Drive/projects_google_collab/music genre classification/valid_label.npy',valid_label)\n",
        "save('/content/drive/My Drive/projects_google_collab/music genre classification/test_mel_im.npy',test_mel_im)\n",
        "save('/content/drive/My Drive/projects_google_collab/music genre classification/test_label.npy',test_label)\n",
        "\n"
      ],
      "execution_count": 5,
      "outputs": [
        {
          "output_type": "execute_result",
          "data": {
            "application/vnd.google.colaboratory.intrinsic+json": {
              "type": "string"
            },
            "text/plain": [
              "\"\\ntrain_mel_im, train_label, valid_mel_im, valid_label, test_mel_im, test_label = prepare_data()\\nsave('/content/drive/My Drive/projects_google_collab/music genre classification/train_mel_im.npy',train_mel_im)\\nsave('/content/drive/My Drive/projects_google_collab/music genre classification/train_label.npy',train_label)\\nsave('/content/drive/My Drive/projects_google_collab/music genre classification/valid_mel_im.npy',valid_mel_im)\\nsave('/content/drive/My Drive/projects_google_collab/music genre classification/valid_label.npy',valid_label)\\nsave('/content/drive/My Drive/projects_google_collab/music genre classification/test_mel_im.npy',test_mel_im)\\nsave('/content/drive/My Drive/projects_google_collab/music genre classification/test_label.npy',test_label)\\n\""
            ]
          },
          "metadata": {
            "tags": []
          },
          "execution_count": 5
        }
      ]
    },
    {
      "cell_type": "code",
      "metadata": {
        "id": "KoHcgaBbTffN",
        "colab_type": "code",
        "colab": {}
      },
      "source": [
        "#loading them from drive in case runtime get restart\n",
        "train_mel_im = np.load('/content/drive/My Drive/projects_google_collab/music genre classification/train_mel_im.npy')\n",
        "y_train = np.load('/content/drive/My Drive/projects_google_collab/music genre classification/train_label.npy')\n",
        "valid_mel_im = np.load('/content/drive/My Drive/projects_google_collab/music genre classification/valid_mel_im.npy')\n",
        "y_val = np.load('/content/drive/My Drive/projects_google_collab/music genre classification/valid_label.npy')\n",
        "test_mel_im = np.load('/content/drive/My Drive/projects_google_collab/music genre classification/test_mel_im.npy')\n",
        "y_test = np.load('/content/drive/My Drive/projects_google_collab/music genre classification/test_label.npy')"
      ],
      "execution_count": 6,
      "outputs": []
    },
    {
      "cell_type": "code",
      "metadata": {
        "id": "uzQNNMLIqi8r",
        "colab_type": "code",
        "colab": {}
      },
      "source": [
        "\n",
        "def plot_confusion_matrix(cm, classes,\n",
        "                          normalize=False,\n",
        "                          title='Confusion matrix',\n",
        "                          cmap=plt.cm.Blues):\n",
        "    \"\"\"\n",
        "    This function prints and plots the confusion matrix.\n",
        "    Normalization can be applied by setting `normalize=True`.\n",
        "    \"\"\"\n",
        "    if normalize:\n",
        "        cm = cm.astype('float') / cm.sum(axis=1)[:, np.newaxis]\n",
        "        print(\"Normalized confusion matrix\")\n",
        "    else:\n",
        "        print('Confusion matrix, without normalization')\n",
        "\n",
        "    print(cm)\n",
        "\n",
        "    plt.imshow(cm, interpolation='nearest', cmap=cmap)\n",
        "    plt.title(title)\n",
        "    plt.colorbar()\n",
        "    tick_marks = np.arange(len(classes))\n",
        "    plt.xticks(tick_marks, classes, rotation=45)\n",
        "    plt.yticks(tick_marks, classes)\n",
        "\n",
        "    fmt = '.1f' if normalize else 'd'\n",
        "    thresh = cm.max() / 2.\n",
        "    for i, j in itertools.product(range(cm.shape[0]), range(cm.shape[1])):\n",
        "        plt.text(j, i, format(cm[i, j], fmt),\n",
        "                 horizontalalignment=\"center\",\n",
        "                 color=\"white\" if cm[i, j] > thresh else \"black\")\n",
        "\n",
        "    plt.ylabel('True label')\n",
        "    plt.xlabel('Predicted label')\n",
        "    plt.tight_layout()\n",
        "    plt.show()\n",
        "\n",
        "#making a cnn model\n",
        "def cnn(num_genres=6, input_shape=(64,2584,1)):\n",
        "    model = Sequential()\n",
        "    model.add(Conv2D(64, kernel_size=(4, 4),\n",
        "                     activation='relu', #kernel_regularizer=regularizers.l2(0.04),\n",
        "                     input_shape=input_shape))\n",
        "    model.add(BatchNormalization())\n",
        "    model.add(MaxPooling2D(pool_size=(2, 4)))\n",
        "    model.add(Conv2D(64, (3, 5), activation='relu'\n",
        "                    , kernel_regularizer=regularizers.l2(0.04)\n",
        "                    ))\n",
        "    model.add(MaxPooling2D(pool_size=(2, 2)))\n",
        "    model.add(Dropout(0.2))\n",
        "    model.add(Conv2D(64, (2, 2), activation='relu'\n",
        "       # , kernel_regularizer=regularizers.l2(0.04)\n",
        "        ))\n",
        "    model.add(BatchNormalization())\n",
        "    model.add(MaxPooling2D(pool_size=(2, 2)))\n",
        "    model.add(Dropout(0.2))\n",
        "    model.add(Flatten())\n",
        "    model.add(Dense(64, activation='relu', kernel_regularizer=regularizers.l2(0.04)))\n",
        "    model.add(Dropout(0.5))\n",
        "    model.add(Dense(32, activation='relu', kernel_regularizer=regularizers.l2(0.04)))\n",
        "    model.add(Dense(num_genres, activation='softmax'))\n",
        "    model.compile(loss=keras.losses.categorical_crossentropy,\n",
        "                  optimizer=keras.optimizers.Adam(lr=0.001, beta_1=0.9, beta_2=0.999, epsilon=1e-08, decay=0.0),\n",
        "                  metrics=['accuracy'])\n",
        "    return model\n",
        " "
      ],
      "execution_count": 32,
      "outputs": []
    },
    {
      "cell_type": "code",
      "metadata": {
        "id": "6s9GXTTxy4qz",
        "colab_type": "code",
        "colab": {}
      },
      "source": [
        "model = cnn(num_genres=6, input_shape=(64,2584,1))\n",
        "\n",
        "learning_rate_reduction = ReduceLROnPlateau(monitor='loss', \n",
        "                                            patience=3, \n",
        "                                            verbose=1, \n",
        "                                            factor=0.5, \n",
        "                                            min_lr=0.00001)"
      ],
      "execution_count": 8,
      "outputs": []
    },
    {
      "cell_type": "code",
      "metadata": {
        "id": "0Jc_QJ64Jmm2",
        "colab_type": "code",
        "colab": {
          "base_uri": "https://localhost:8080/",
          "height": 1000
        },
        "outputId": "150eb5a7-160a-45fc-f54d-11df15a5f6e1"
      },
      "source": [
        "history = model.fit(np.array(train_mel_im),np.array(y_train), validation_data=(np.array(valid_mel_im),np.array(y_val)),  \n",
        "                epochs=250, steps_per_epoch=100, validation_steps=10, batch_size=32,callbacks = [learning_rate_reduction])"
      ],
      "execution_count": 9,
      "outputs": [
        {
          "output_type": "stream",
          "text": [
            "Epoch 1/250\n",
            "  2/100 [..............................] - ETA: 11s - loss: 10.7979 - accuracy: 0.1719WARNING:tensorflow:Callbacks method `on_train_batch_end` is slow compared to the batch time (batch time: 0.0900s vs `on_train_batch_end` time: 0.1462s). Check your callbacks.\n",
            "100/100 [==============================] - ETA: 0s - loss: 3.8801 - accuracy: 0.4937WARNING:tensorflow:Your input ran out of data; interrupting training. Make sure that your dataset or generator can generate at least `steps_per_epoch * epochs` batches (in this case, 10 batches). You may need to use the repeat() function when building your dataset.\n",
            "100/100 [==============================] - 23s 226ms/step - loss: 3.8801 - accuracy: 0.4937 - val_loss: 3.2732 - val_accuracy: 0.1667\n",
            "Epoch 2/250\n",
            "100/100 [==============================] - 22s 219ms/step - loss: 2.2838 - accuracy: 0.7154\n",
            "Epoch 3/250\n",
            "100/100 [==============================] - 22s 221ms/step - loss: 1.8477 - accuracy: 0.8256\n",
            "Epoch 4/250\n",
            "100/100 [==============================] - 22s 224ms/step - loss: 1.7003 - accuracy: 0.8512\n",
            "Epoch 5/250\n",
            "100/100 [==============================] - 23s 227ms/step - loss: 1.5653 - accuracy: 0.8685\n",
            "Epoch 6/250\n",
            "100/100 [==============================] - 23s 228ms/step - loss: 1.5477 - accuracy: 0.8822\n",
            "Epoch 7/250\n",
            "100/100 [==============================] - 22s 225ms/step - loss: 1.1784 - accuracy: 0.9187\n",
            "Epoch 8/250\n",
            "100/100 [==============================] - 23s 227ms/step - loss: 0.9577 - accuracy: 0.9434\n",
            "Epoch 9/250\n",
            "100/100 [==============================] - 23s 227ms/step - loss: 1.5993 - accuracy: 0.8712\n",
            "Epoch 10/250\n",
            "100/100 [==============================] - 23s 228ms/step - loss: 1.4923 - accuracy: 0.9051\n",
            "Epoch 11/250\n",
            "100/100 [==============================] - ETA: 0s - loss: 1.0551 - accuracy: 0.9291\n",
            "Epoch 00011: ReduceLROnPlateau reducing learning rate to 0.0005000000237487257.\n",
            "100/100 [==============================] - 23s 227ms/step - loss: 1.0551 - accuracy: 0.9291\n",
            "Epoch 12/250\n",
            "100/100 [==============================] - 23s 226ms/step - loss: 0.7882 - accuracy: 0.9644\n",
            "Epoch 13/250\n",
            "100/100 [==============================] - 23s 227ms/step - loss: 0.6213 - accuracy: 0.9667\n",
            "Epoch 14/250\n",
            "100/100 [==============================] - 23s 225ms/step - loss: 0.6259 - accuracy: 0.9661\n",
            "Epoch 15/250\n",
            "100/100 [==============================] - 23s 227ms/step - loss: 0.6067 - accuracy: 0.9657\n",
            "Epoch 16/250\n",
            "100/100 [==============================] - 23s 227ms/step - loss: 0.5698 - accuracy: 0.9720\n",
            "Epoch 17/250\n",
            "100/100 [==============================] - 23s 227ms/step - loss: 0.5176 - accuracy: 0.9724\n",
            "Epoch 18/250\n",
            "100/100 [==============================] - 23s 227ms/step - loss: 0.4839 - accuracy: 0.9730\n",
            "Epoch 19/250\n",
            "100/100 [==============================] - 23s 227ms/step - loss: 0.5889 - accuracy: 0.9637\n",
            "Epoch 20/250\n",
            "100/100 [==============================] - 23s 227ms/step - loss: 0.5116 - accuracy: 0.9727\n",
            "Epoch 21/250\n",
            " 99/100 [============================>.] - ETA: 0s - loss: 0.4983 - accuracy: 0.9711\n",
            "Epoch 00021: ReduceLROnPlateau reducing learning rate to 0.0002500000118743628.\n",
            "100/100 [==============================] - 23s 225ms/step - loss: 0.4984 - accuracy: 0.9711\n",
            "Epoch 22/250\n",
            "100/100 [==============================] - 23s 227ms/step - loss: 0.4254 - accuracy: 0.9824\n",
            "Epoch 23/250\n",
            "100/100 [==============================] - 23s 227ms/step - loss: 0.3493 - accuracy: 0.9893\n",
            "Epoch 24/250\n",
            "100/100 [==============================] - 23s 227ms/step - loss: 0.3081 - accuracy: 0.9913\n",
            "Epoch 25/250\n",
            "100/100 [==============================] - 23s 228ms/step - loss: 0.3783 - accuracy: 0.9814\n",
            "Epoch 26/250\n",
            "100/100 [==============================] - 23s 227ms/step - loss: 0.3398 - accuracy: 0.9940\n",
            "Epoch 27/250\n",
            "100/100 [==============================] - ETA: 0s - loss: 0.3436 - accuracy: 0.9870\n",
            "Epoch 00027: ReduceLROnPlateau reducing learning rate to 0.0001250000059371814.\n",
            "100/100 [==============================] - 23s 227ms/step - loss: 0.3436 - accuracy: 0.9870\n",
            "Epoch 28/250\n",
            "100/100 [==============================] - 22s 225ms/step - loss: 0.2906 - accuracy: 0.9909\n",
            "Epoch 29/250\n",
            "100/100 [==============================] - 23s 227ms/step - loss: 0.2633 - accuracy: 0.9950\n",
            "Epoch 30/250\n",
            "100/100 [==============================] - 23s 227ms/step - loss: 0.2599 - accuracy: 0.9963\n",
            "Epoch 31/250\n",
            "100/100 [==============================] - 23s 227ms/step - loss: 0.2546 - accuracy: 0.9943\n",
            "Epoch 32/250\n",
            "100/100 [==============================] - 23s 227ms/step - loss: 0.2459 - accuracy: 0.9963\n",
            "Epoch 33/250\n",
            "100/100 [==============================] - 23s 227ms/step - loss: 0.2375 - accuracy: 0.9937\n",
            "Epoch 34/250\n",
            "100/100 [==============================] - 23s 227ms/step - loss: 0.2282 - accuracy: 0.9963\n",
            "Epoch 35/250\n",
            "100/100 [==============================] - 22s 225ms/step - loss: 0.2242 - accuracy: 0.9943\n",
            "Epoch 36/250\n",
            "WARNING:tensorflow:Your input ran out of data; interrupting training. Make sure that your dataset or generator can generate at least `steps_per_epoch * epochs` batches (in this case, 25000 batches). You may need to use the repeat() function when building your dataset.\n",
            "  0/100 [..............................] - 0s 0s/step - loss: 0.2242 - accuracy: 0.9943\n"
          ],
          "name": "stdout"
        }
      ]
    },
    {
      "cell_type": "code",
      "metadata": {
        "id": "j5V7JOtOLlfp",
        "colab_type": "code",
        "colab": {
          "base_uri": "https://localhost:8080/",
          "height": 168
        },
        "outputId": "cd5592be-fc0c-412a-a3a1-ca983fd86e58"
      },
      "source": [
        "#checking performance of our model\n",
        "\n",
        "validation_accuracy = model.evaluate(np.array(valid_mel_im), np.array(y_val))\n",
        "training_accuracy = model.evaluate(np.array(train_mel_im), np.array(y_train))\n",
        "testing_accuracy = model.evaluate(np.array(test_mel_im), np.array(y_test))\n",
        "# print of test error used only after development of the model\n",
        "print(\"\\nTraining accuracy: %f\\t Validation accuracy: %f\\t Testing Accuracy: %f\" %\n",
        "      (training_accuracy[1], validation_accuracy[1], testing_accuracy[1]))\n",
        "print(\"\\nTraining loss: %f    \\t Validation loss: %f    \\t Testing Loss: %f \\n\" %\n",
        "      (training_accuracy[0], validation_accuracy[0], testing_accuracy[0]))\n",
        "print( )"
      ],
      "execution_count": 10,
      "outputs": [
        {
          "output_type": "stream",
          "text": [
            "4/4 [==============================] - 0s 55ms/step - loss: 1.1806 - accuracy: 0.6833\n",
            "14/14 [==============================] - 1s 70ms/step - loss: 0.1951 - accuracy: 1.0000\n",
            "2/2 [==============================] - 0s 137ms/step - loss: 1.0583 - accuracy: 0.7500\n",
            "\n",
            "Training accuracy: 1.000000\t Validation accuracy: 0.683333\t Testing Accuracy: 0.750000\n",
            "\n",
            "Training loss: 0.195068    \t Validation loss: 1.180556    \t Testing Loss: 1.058340 \n",
            "\n",
            "\n"
          ],
          "name": "stdout"
        }
      ]
    },
    {
      "cell_type": "code",
      "metadata": {
        "id": "S6t1oRp1yG73",
        "colab_type": "code",
        "colab": {
          "base_uri": "https://localhost:8080/",
          "height": 414
        },
        "outputId": "afc87769-ad0e-4543-fe53-bcc72c4f091a"
      },
      "source": [
        "%matplotlib inline\n",
        "labels = ['classical','hiphop','jazz','metal','pop','reggae']\n",
        "\n",
        "# plotting confusion matrix\n",
        "Y_pred = model.predict(np.array(valid_mel_im))\n",
        "Y_pred_classes = np.argmax(Y_pred,axis = 1) \n",
        "Y_true = np.argmax(np.array(y_val),axis = 1) \n",
        "# compute the confusion matrix\n",
        "confusion_mtx = confusion_matrix(Y_true, Y_pred_classes) \n",
        "# plot the confusion matrix\n",
        "plot_confusion_matrix(confusion_mtx, classes = labels,\n",
        "                          normalize=False,\n",
        "                          title='Confusion matrix',\n",
        "                          cmap=plt.cm.Blues)\n",
        "\n"
      ],
      "execution_count": 34,
      "outputs": [
        {
          "output_type": "stream",
          "text": [
            "Confusion matrix, without normalization\n",
            "[[20  0  0  0  0  0]\n",
            " [ 0 12  1  5  1  1]\n",
            " [ 1  1 16  2  0  0]\n",
            " [ 0  1  0 19  0  0]\n",
            " [ 2  2  0  0 11  5]\n",
            " [ 0 15  0  1  0  4]]\n"
          ],
          "name": "stdout"
        },
        {
          "output_type": "display_data",
          "data": {
            "image/png": "[encoded data removed]",
            "text/plain": [
              "<Figure size 432x288 with 2 Axes>"
            ]
          },
          "metadata": {
            "tags": [],
            "needs_background": "light"
          }
        }
      ]
    },
    {
      "cell_type": "markdown",
      "metadata": {
        "id": "FYeWLIbt2qBe",
        "colab_type": "text"
      },
      "source": [
        "problem is with reggae only model considering reggae as hip hop"
      ]
    },
    {
      "cell_type": "code",
      "metadata": {
        "id": "-UHmulZl-Rji",
        "colab_type": "code",
        "colab": {
          "base_uri": "https://localhost:8080/",
          "height": 34
        },
        "outputId": "5da468a3-6eaa-485d-c6bd-592c4a689f6a"
      },
      "source": [
        "#Saving model and model weights\n",
        "\n",
        "# serialize model to JSON\n",
        "model_json = model.to_json()\n",
        "with open(\"model.json\", \"w\") as json_file:\n",
        "    json_file.write(model_json)\n",
        "# serialize weights to HDF5\n",
        "model.save_weights(\"model.h5\")\n",
        "print(\"Saved model to disk\")\n"
      ],
      "execution_count": 15,
      "outputs": [
        {
          "output_type": "stream",
          "text": [
            "Saved model to disk\n"
          ],
          "name": "stdout"
        }
      ]
    },
    {
      "cell_type": "markdown",
      "metadata": {
        "id": "LgWg4tA9zPCH",
        "colab_type": "text"
      },
      "source": [
        "**Taking Audio input and performing classification on that**"
      ]
    },
    {
      "cell_type": "code",
      "metadata": {
        "id": "Iz8XvF_eLQ2M",
        "colab_type": "code",
        "colab": {
          "base_uri": "https://localhost:8080/",
          "height": 50
        },
        "outputId": "de6e7bea-f54a-4c05-b54c-2c7dd2d8f7ca"
      },
      "source": [
        "!pip install ffmpeg-python"
      ],
      "execution_count": 35,
      "outputs": [
        {
          "output_type": "stream",
          "text": [
            "Requirement already satisfied: ffmpeg-python in /usr/local/lib/python3.6/dist-packages (0.2.0)\n",
            "Requirement already satisfied: future in /usr/local/lib/python3.6/dist-packages (from ffmpeg-python) (0.16.0)\n"
          ],
          "name": "stdout"
        }
      ]
    },
    {
      "cell_type": "code",
      "metadata": {
        "id": "mWrCnftoLQzl",
        "colab_type": "code",
        "colab": {}
      },
      "source": [
        "\"\"\"\n",
        "To write this piece of code I took inspiration/code from a lot of places.\n",
        "It was late night, so I'm not sure how much I created or just copied o.O\n",
        "Here are some of the possible references:\n",
        "https://blog.addpipe.com/recording-audio-in-the-browser-using-pure-html5-and-minimal-javascript/\n",
        "https://stackoverflow.com/a/18650249\n",
        "https://hacks.mozilla.org/2014/06/easy-audio-capture-with-the-mediarecorder-api/\n",
        "https://air.ghost.io/recording-to-an-audio-file-using-html5-and-js/\n",
        "https://stackoverflow.com/a/49019356\n",
        "\"\"\"\n",
        "from IPython.display import HTML, Audio\n",
        "from google.colab.output import eval_js\n",
        "from base64 import b64decode\n",
        "import numpy as np\n",
        "from scipy.io.wavfile import read as wav_read\n",
        "import io\n",
        "import ffmpeg\n",
        "\n",
        "AUDIO_HTML = \"\"\"\n",
        "<script>\n",
        "var my_div = document.createElement(\"DIV\");\n",
        "var my_p = document.createElement(\"P\");\n",
        "var my_btn = document.createElement(\"BUTTON\");\n",
        "var t = document.createTextNode(\"Press to start recording\");\n",
        "\n",
        "my_btn.appendChild(t);\n",
        "//my_p.appendChild(my_btn);\n",
        "my_div.appendChild(my_btn);\n",
        "document.body.appendChild(my_div);\n",
        "\n",
        "var base64data = 0;\n",
        "var reader;\n",
        "var recorder, gumStream;\n",
        "var recordButton = my_btn;\n",
        "\n",
        "var handleSuccess = function(stream) {\n",
        "  gumStream = stream;\n",
        "  var options = {\n",
        "    //bitsPerSecond: 8000, //chrome seems to ignore, always 48k\n",
        "    mimeType : 'audio/webm;codecs=opus'\n",
        "    //mimeType : 'audio/webm;codecs=pcm'\n",
        "  };            \n",
        "  //recorder = new MediaRecorder(stream, options);\n",
        "  recorder = new MediaRecorder(stream);\n",
        "  recorder.ondataavailable = function(e) {            \n",
        "    var url = URL.createObjectURL(e.data);\n",
        "    var preview = document.createElement('audio');\n",
        "    preview.controls = true;\n",
        "    preview.src = url;\n",
        "    document.body.appendChild(preview);\n",
        "\n",
        "    reader = new FileReader();\n",
        "    reader.readAsDataURL(e.data); \n",
        "    reader.onloadend = function() {\n",
        "      base64data = reader.result;\n",
        "      //console.log(\"Inside FileReader:\" + base64data);\n",
        "    }\n",
        "  };\n",
        "  recorder.start();\n",
        "  };\n",
        "\n",
        "recordButton.innerText = \"Recording... press to stop\";\n",
        "\n",
        "navigator.mediaDevices.getUserMedia({audio: true}).then(handleSuccess);\n",
        "\n",
        "\n",
        "function toggleRecording() {\n",
        "  if (recorder && recorder.state == \"recording\") {\n",
        "      recorder.stop();\n",
        "      gumStream.getAudioTracks()[0].stop();\n",
        "      recordButton.innerText = \"Saving the recording... pls wait!\"\n",
        "  }\n",
        "}\n",
        "\n",
        "// https://stackoverflow.com/a/951057\n",
        "function sleep(ms) {\n",
        "  return new Promise(resolve => setTimeout(resolve, ms));\n",
        "}\n",
        "\n",
        "var data = new Promise(resolve=>{\n",
        "//recordButton.addEventListener(\"click\", toggleRecording);\n",
        "recordButton.onclick = ()=>{\n",
        "toggleRecording()\n",
        "\n",
        "sleep(2000).then(() => {\n",
        "  // wait 2000ms for the data to be available...\n",
        "  // ideally this should use something like await...\n",
        "  //console.log(\"Inside data:\" + base64data)\n",
        "  resolve(base64data.toString())\n",
        "\n",
        "});\n",
        "\n",
        "}\n",
        "});\n",
        "      \n",
        "</script>\n",
        "\"\"\"\n",
        "\n",
        "def get_audio():\n",
        "  display(HTML(AUDIO_HTML))\n",
        "  data = eval_js(\"data\")\n",
        "  binary = b64decode(data.split(',')[1])\n",
        "  \n",
        "  process = (ffmpeg\n",
        "    .input('pipe:0')\n",
        "    .output('pipe:1', format='wav')\n",
        "    .run_async(pipe_stdin=True, pipe_stdout=True, pipe_stderr=True, quiet=True, overwrite_output=True)\n",
        "  )\n",
        "  output, err = process.communicate(input=binary)\n",
        "  \n",
        "  riff_chunk_size = len(output) - 8\n",
        "  # Break up the chunk size into four bytes, held in b.\n",
        "  q = riff_chunk_size\n",
        "  b = []\n",
        "  for i in range(4):\n",
        "      q, r = divmod(q, 256)\n",
        "      b.append(r)\n",
        "\n",
        "  # Replace bytes 4:8 in proc.stdout with the actual size of the RIFF chunk.\n",
        "  riff = output[:4] + bytes(b) + output[8:]\n",
        "\n",
        "  sr, audio = wav_read(io.BytesIO(riff))\n",
        "\n",
        "  return audio, sr"
      ],
      "execution_count": 36,
      "outputs": []
    },
    {
      "cell_type": "code",
      "metadata": {
        "id": "JhiJNF2gLQwF",
        "colab_type": "code",
        "colab": {
          "base_uri": "https://localhost:8080/",
          "height": 97
        },
        "outputId": "7ef183a9-8e5b-4b3d-a143-adece93847e4"
      },
      "source": [
        "audio, sr = get_audio() \n",
        "#music is taken from this --> https://www.youtube.com/watch?v=312Sb-2PovA"
      ],
      "execution_count": 37,
      "outputs": [
        {
          "output_type": "display_data",
          "data": {
            "text/html": [
              "\n",
              "<script>\n",
              "var my_div = document.createElement(\"DIV\");\n",
              "var my_p = document.createElement(\"P\");\n",
              "var my_btn = document.createElement(\"BUTTON\");\n",
              "var t = document.createTextNode(\"Press to start recording\");\n",
              "\n",
              "my_btn.appendChild(t);\n",
              "//my_p.appendChild(my_btn);\n",
              "my_div.appendChild(my_btn);\n",
              "document.body.appendChild(my_div);\n",
              "\n",
              "var base64data = 0;\n",
              "var reader;\n",
              "var recorder, gumStream;\n",
              "var recordButton = my_btn;\n",
              "\n",
              "var handleSuccess = function(stream) {\n",
              "  gumStream = stream;\n",
              "  var options = {\n",
              "    //bitsPerSecond: 8000, //chrome seems to ignore, always 48k\n",
              "    mimeType : 'audio/webm;codecs=opus'\n",
              "    //mimeType : 'audio/webm;codecs=pcm'\n",
              "  };            \n",
              "  //recorder = new MediaRecorder(stream, options);\n",
              "  recorder = new MediaRecorder(stream);\n",
              "  recorder.ondataavailable = function(e) {            \n",
              "    var url = URL.createObjectURL(e.data);\n",
              "    var preview = document.createElement('audio');\n",
              "    preview.controls = true;\n",
              "    preview.src = url;\n",
              "    document.body.appendChild(preview);\n",
              "\n",
              "    reader = new FileReader();\n",
              "    reader.readAsDataURL(e.data); \n",
              "    reader.onloadend = function() {\n",
              "      base64data = reader.result;\n",
              "      //console.log(\"Inside FileReader:\" + base64data);\n",
              "    }\n",
              "  };\n",
              "  recorder.start();\n",
              "  };\n",
              "\n",
              "recordButton.innerText = \"Recording... press to stop\";\n",
              "\n",
              "navigator.mediaDevices.getUserMedia({audio: true}).then(handleSuccess);\n",
              "\n",
              "\n",
              "function toggleRecording() {\n",
              "  if (recorder && recorder.state == \"recording\") {\n",
              "      recorder.stop();\n",
              "      gumStream.getAudioTracks()[0].stop();\n",
              "      recordButton.innerText = \"Saving the recording... pls wait!\"\n",
              "  }\n",
              "}\n",
              "\n",
              "// https://stackoverflow.com/a/951057\n",
              "function sleep(ms) {\n",
              "  return new Promise(resolve => setTimeout(resolve, ms));\n",
              "}\n",
              "\n",
              "var data = new Promise(resolve=>{\n",
              "//recordButton.addEventListener(\"click\", toggleRecording);\n",
              "recordButton.onclick = ()=>{\n",
              "toggleRecording()\n",
              "\n",
              "sleep(2000).then(() => {\n",
              "  // wait 2000ms for the data to be available...\n",
              "  // ideally this should use something like await...\n",
              "  //console.log(\"Inside data:\" + base64data)\n",
              "  resolve(base64data.toString())\n",
              "\n",
              "});\n",
              "\n",
              "}\n",
              "});\n",
              "      \n",
              "</script>\n"
            ],
            "text/plain": [
              "<IPython.core.display.HTML object>"
            ]
          },
          "metadata": {
            "tags": []
          }
        }
      ]
    },
    {
      "cell_type": "code",
      "metadata": {
        "id": "H788_jp_Cc7R",
        "colab_type": "code",
        "colab": {}
      },
      "source": [
        "def mel_spectogram(audio,sr):\n",
        "  #y, sr = lb.load(file)\n",
        "  melspec = lb.feature.melspectrogram(y = audio.astype(float),sr = sr, hop_length = HOP_LENGTH, n_fft = N_FFT, n_mels = N_MELS)\n",
        "  melspec_db = lb.power_to_db(melspec,ref = np.max)\n",
        "  return melspec_db"
      ],
      "execution_count": 38,
      "outputs": []
    },
    {
      "cell_type": "code",
      "metadata": {
        "id": "BqLUndpbLbDY",
        "colab_type": "code",
        "colab": {}
      },
      "source": [
        "\n",
        "x = np.array(mel_spectogram((audio),float(sr)))\n",
        "x = x / np.linalg.norm(x)\n",
        "x = cv2.resize(x.reshape(x.shape[0],x.shape[1],1), (2584,64),interpolation = cv2.INTER_CUBIC)\n",
        "pred = model.predict((x.reshape(1,x.shape[0],x.shape[1],1)))"
      ],
      "execution_count": 40,
      "outputs": []
    },
    {
      "cell_type": "code",
      "metadata": {
        "id": "w895wS2cLa_-",
        "colab_type": "code",
        "colab": {
          "base_uri": "https://localhost:8080/",
          "height": 880
        },
        "outputId": "d84916c6-be61-4e17-86bc-9ea352803511"
      },
      "source": [
        "%matplotlib inline \n",
        "plt.figure(figsize = (15,15))\n",
        "sns.barplot(x = ['classical','hiphop','jazz','metal','pop','reggae'],y = pred[0])\n",
        "plt.show()\n",
        "plt.savefig('random_music_test.png')"
      ],
      "execution_count": 41,
      "outputs": [
        {
          "output_type": "display_data",
          "data": {
            "image/png": "[encoded data removed]",
            "text/plain": [
              "<Figure size 1080x1080 with 1 Axes>"
            ]
          },
          "metadata": {
            "tags": [],
            "needs_background": "light"
          }
        },
        {
          "output_type": "display_data",
          "data": {
            "text/plain": [
              "<Figure size 432x288 with 0 Axes>"
            ]
          },
          "metadata": {
            "tags": []
          }
        }
      ]
    },
    {
      "cell_type": "code",
      "metadata": {
        "id": "WpodBEs3wHFB",
        "colab_type": "code",
        "colab": {}
      },
      "source": [
        ""
      ],
      "execution_count": null,
      "outputs": []
    }
  ]
}